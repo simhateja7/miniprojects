{
  "nbformat": 4,
  "nbformat_minor": 0,
  "metadata": {
    "colab": {
      "name": "restapi.ipynb",
      "provenance": [],
      "authorship_tag": "ABX9TyPy+3VJM7wUDDG2qrhf1ueW",
      "include_colab_link": true
    },
    "kernelspec": {
      "name": "python3",
      "display_name": "Python 3"
    }
  },
  "cells": [
    {
      "cell_type": "markdown",
      "metadata": {
        "id": "view-in-github",
        "colab_type": "text"
      },
      "source": [
        "<a href=\"https://colab.research.google.com/github/simhateja7/miniprojects/blob/master/restapi.ipynb\" target=\"_parent\"><img src=\"https://colab.research.google.com/assets/colab-badge.svg\" alt=\"Open In Colab\"/></a>"
      ]
    },
    {
      "cell_type": "code",
      "metadata": {
        "id": "kBIQHwNRp5xw",
        "colab_type": "code",
        "colab": {}
      },
      "source": [
        "import hashlib\n",
        "\n",
        "users={}\n",
        "class Register:\n",
        "  def __init__(self,object):\n",
        "    "
      ],
      "execution_count": null,
      "outputs": []
    },
    {
      "cell_type": "code",
      "metadata": {
        "id": "MNxR95-bhaye",
        "colab_type": "code",
        "colab": {}
      },
      "source": [
        "u1=Register('obj')\n"
      ],
      "execution_count": null,
      "outputs": []
    },
    {
      "cell_type": "code",
      "metadata": {
        "id": "w7Tt527nhmu1",
        "colab_type": "code",
        "colab": {
          "base_uri": "https://localhost:8080/",
          "height": 34
        },
        "outputId": "f306e34c-c674-4aa3-c499-3b1137567eee"
      },
      "source": [
        "u1.signup('simha','teja')\n"
      ],
      "execution_count": null,
      "outputs": [
        {
          "output_type": "stream",
          "text": [
            "<md5 HASH object @ 0x7f7b02417e90>\n"
          ],
          "name": "stdout"
        }
      ]
    },
    {
      "cell_type": "code",
      "metadata": {
        "id": "mr5-3bt7hw1Y",
        "colab_type": "code",
        "colab": {
          "base_uri": "https://localhost:8080/",
          "height": 34
        },
        "outputId": "599ee7f2-24e3-4a64-bb33-15211a24bd72"
      },
      "source": [
        "users"
      ],
      "execution_count": null,
      "outputs": [
        {
          "output_type": "execute_result",
          "data": {
            "text/plain": [
              "{'simha': '19edacd33ab84209efc96eb76f578f38'}"
            ]
          },
          "metadata": {
            "tags": []
          },
          "execution_count": 18
        }
      ]
    },
    {
      "cell_type": "code",
      "metadata": {
        "id": "0KLC43SJis3N",
        "colab_type": "code",
        "colab": {
          "base_uri": "https://localhost:8080/",
          "height": 34
        },
        "outputId": "5f11a713-ba17-4d1f-b929-cb19b4d05b73"
      },
      "source": [
        "u1.login('simha','teja')"
      ],
      "execution_count": null,
      "outputs": [
        {
          "output_type": "execute_result",
          "data": {
            "text/plain": [
              "True"
            ]
          },
          "metadata": {
            "tags": []
          },
          "execution_count": 9
        }
      ]
    },
    {
      "cell_type": "code",
      "metadata": {
        "id": "NoYrb3g0i3Zd",
        "colab_type": "code",
        "colab": {
          "base_uri": "https://localhost:8080/",
          "height": 34
        },
        "outputId": "6a7d6235-4f05-4ac4-a62b-dbdbafc1353d"
      },
      "source": [
        "u1.login('simha','teja')"
      ],
      "execution_count": null,
      "outputs": [
        {
          "output_type": "execute_result",
          "data": {
            "text/plain": [
              "True"
            ]
          },
          "metadata": {
            "tags": []
          },
          "execution_count": 11
        }
      ]
    },
    {
      "cell_type": "code",
      "metadata": {
        "id": "YFydc5fXcOnY",
        "colab_type": "code",
        "colab": {}
      },
      "source": [
        "import hashlib   #for hashing password\n",
        "\n",
        "users={}\n",
        "\n",
        "\"\"\"Basic Registration Uing API\"\"\"\n",
        "\n",
        "class Register(object):\n",
        "  def __init__(self,app):\n",
        "    self.app=app\n",
        "  \n",
        "  def signup(self,username,password):\n",
        "    hash=hashlib.md5(password.encode()) \n",
        "    print(hash)    #md5 is encrypting hash\n",
        "    users.update({username:hash.hexdigest()})    #return hash value in hex \n",
        "  def login(self,username,password):\n",
        "    hash=hashlib.md5(password.encode())\n",
        "    if users[username]==hash.hexdigest():\n",
        "      return True\n",
        "    else:\n",
        "      return False"
      ],
      "execution_count": 2,
      "outputs": []
    },
    {
      "cell_type": "code",
      "metadata": {
        "id": "rhTLbJTGjCQ_",
        "colab_type": "code",
        "colab": {
          "base_uri": "https://localhost:8080/",
          "height": 272
        },
        "outputId": "200f7b21-d1ba-4007-8f6e-570434cb8f9a"
      },
      "source": [
        "!pip install flask-ngrok\n"
      ],
      "execution_count": null,
      "outputs": [
        {
          "output_type": "stream",
          "text": [
            "Collecting flask-ngrok\n",
            "  Downloading https://files.pythonhosted.org/packages/af/6c/f54cb686ad1129e27d125d182f90f52b32f284e6c8df58c1bae54fa1adbc/flask_ngrok-0.0.25-py3-none-any.whl\n",
            "Requirement already satisfied: requests in /usr/local/lib/python3.6/dist-packages (from flask-ngrok) (2.23.0)\n",
            "Requirement already satisfied: Flask>=0.8 in /usr/local/lib/python3.6/dist-packages (from flask-ngrok) (1.1.2)\n",
            "Requirement already satisfied: idna<3,>=2.5 in /usr/local/lib/python3.6/dist-packages (from requests->flask-ngrok) (2.10)\n",
            "Requirement already satisfied: urllib3!=1.25.0,!=1.25.1,<1.26,>=1.21.1 in /usr/local/lib/python3.6/dist-packages (from requests->flask-ngrok) (1.24.3)\n",
            "Requirement already satisfied: certifi>=2017.4.17 in /usr/local/lib/python3.6/dist-packages (from requests->flask-ngrok) (2020.6.20)\n",
            "Requirement already satisfied: chardet<4,>=3.0.2 in /usr/local/lib/python3.6/dist-packages (from requests->flask-ngrok) (3.0.4)\n",
            "Requirement already satisfied: click>=5.1 in /usr/local/lib/python3.6/dist-packages (from Flask>=0.8->flask-ngrok) (7.1.2)\n",
            "Requirement already satisfied: itsdangerous>=0.24 in /usr/local/lib/python3.6/dist-packages (from Flask>=0.8->flask-ngrok) (1.1.0)\n",
            "Requirement already satisfied: Werkzeug>=0.15 in /usr/local/lib/python3.6/dist-packages (from Flask>=0.8->flask-ngrok) (1.0.1)\n",
            "Requirement already satisfied: Jinja2>=2.10.1 in /usr/local/lib/python3.6/dist-packages (from Flask>=0.8->flask-ngrok) (2.11.2)\n",
            "Requirement already satisfied: MarkupSafe>=0.23 in /usr/local/lib/python3.6/dist-packages (from Jinja2>=2.10.1->Flask>=0.8->flask-ngrok) (1.1.1)\n",
            "Installing collected packages: flask-ngrok\n",
            "Successfully installed flask-ngrok-0.0.25\n"
          ],
          "name": "stdout"
        }
      ]
    },
    {
      "cell_type": "code",
      "metadata": {
        "id": "7OIAKI-Sk1L0",
        "colab_type": "code",
        "colab": {
          "base_uri": "https://localhost:8080/",
          "height": 255
        },
        "outputId": "6018e891-2945-4e19-a774-632c05f36829"
      },
      "source": [
        "from flask_ngrok import run_with_ngrok\n",
        "from flask import Flask\n",
        "\n",
        "app=Flask(__name__)\n",
        "userobj=Register(app)\n",
        "run_with_ngrok(app)\n",
        "@app.route(\"/\")\n",
        "def index():\n",
        "  return \"forSignup :/signup/uname/password, forLogin:/login/uname/password,forusers :/users\"\n",
        "@app.route(\"/signup/<username>/<password>/\")\n",
        "def reg(username,password):\n",
        "  userobj.signup(username,password)\n",
        "  return \"{} Successfully Registered\".format(username)\n",
        "\n",
        "@app.route(\"/login/<username>/<password>/\") \n",
        "def login(username,password):\n",
        "  auth=userobj.login(username,password)\n",
        "  if auth:\n",
        "    return \"login suucefull for {} \".format(username)\n",
        "  else:\n",
        "    return \"wrong credentials\"\n",
        "@app.route(\"/users\")\n",
        "def data():\n",
        "  return users\n",
        "app.run()\n",
        "\n"
      ],
      "execution_count": null,
      "outputs": [
        {
          "output_type": "stream",
          "text": [
            " * Serving Flask app \"__main__\" (lazy loading)\n",
            " * Environment: production\n",
            "\u001b[31m   WARNING: This is a development server. Do not use it in a production deployment.\u001b[0m\n",
            "\u001b[2m   Use a production WSGI server instead.\u001b[0m\n",
            " * Debug mode: off\n"
          ],
          "name": "stdout"
        },
        {
          "output_type": "stream",
          "text": [
            " * Running on http://127.0.0.1:5000/ (Press CTRL+C to quit)\n"
          ],
          "name": "stderr"
        },
        {
          "output_type": "stream",
          "text": [
            " * Running on http://93a7723575ad.ngrok.io\n",
            " * Traffic stats available on http://127.0.0.1:4040\n"
          ],
          "name": "stdout"
        },
        {
          "output_type": "stream",
          "text": [
            "127.0.0.1 - - [19/Aug/2020 12:26:45] \"\u001b[37mGET / HTTP/1.1\u001b[0m\" 200 -\n",
            "127.0.0.1 - - [19/Aug/2020 12:26:47] \"\u001b[33mGET /favicon.ico HTTP/1.1\u001b[0m\" 404 -\n",
            "127.0.0.1 - - [19/Aug/2020 12:27:00] \"\u001b[32mGET /login/simha/abcd HTTP/1.1\u001b[0m\" 308 -\n",
            "127.0.0.1 - - [19/Aug/2020 12:27:01] \"\u001b[37mGET /login/simha/abcd/ HTTP/1.1\u001b[0m\" 200 -\n",
            "127.0.0.1 - - [19/Aug/2020 12:27:10] \"\u001b[32mGET /login/simha/abc HTTP/1.1\u001b[0m\" 308 -\n",
            "127.0.0.1 - - [19/Aug/2020 12:27:10] \"\u001b[37mGET /login/simha/abc/ HTTP/1.1\u001b[0m\" 200 -\n"
          ],
          "name": "stderr"
        }
      ]
    },
    {
      "cell_type": "markdown",
      "metadata": {
        "id": "cm1uWO3Ui-uS",
        "colab_type": "text"
      },
      "source": [
        ""
      ]
    }
  ]
}